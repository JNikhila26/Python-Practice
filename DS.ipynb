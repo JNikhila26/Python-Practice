{
 "cells": [
  {
   "cell_type": "code",
   "execution_count": 3,
   "id": "5eea0700-b61d-4039-9896-beb5957cfdaf",
   "metadata": {},
   "outputs": [
    {
     "name": "stdout",
     "output_type": "stream",
     "text": [
      "[6, 12, 18, 4, 12, 20, 28]\n"
     ]
    }
   ],
   "source": [
    "l1 = [3, 6, 9, 12, 15, 18, 21]\n",
    "l2 = [4, 8, 12, 16, 20, 24, 28]\n",
    "res1 = []\n",
    "res2 = []\n",
    "\n",
    "for i in range(len(l1)):\n",
    "    if i%2 != 0:\n",
    "        res1.append(l1[i])\n",
    "for j in range(len(l2)):\n",
    "    if j%2 == 0:\n",
    "        res2.append(l2[j])\n",
    "print(res1+res2)\n",
    "    "
   ]
  },
  {
   "cell_type": "code",
   "execution_count": 5,
   "id": "03182485-9556-4fea-a1f8-7b847c1f710d",
   "metadata": {},
   "outputs": [
    {
     "name": "stdout",
     "output_type": "stream",
     "text": [
      "Chunk  0 [11, 45, 8]\n",
      "After reversing it  [8, 45, 11]\n",
      "Chunk  1 [23, 14, 12]\n",
      "After reversing it  [12, 14, 23]\n",
      "Chunk  2 [78, 45, 89]\n",
      "After reversing it  [89, 45, 78]\n"
     ]
    }
   ],
   "source": [
    "l = [11, 45, 8, 23, 14, 12, 78, 45, 89]\n",
    "\n",
    "length = len(l)\n",
    "chunk_size = int(length / 3)\n",
    "start = 0\n",
    "end = chunk_size\n",
    "\n",
    "for i in range(3):\n",
    "    indexes = slice(start, end)\n",
    "\n",
    "    list_chunk = l[indexes]\n",
    "    print(\"Chunk \", i, list_chunk)\n",
    "    \n",
    "    print(\"After reversing it \", list(reversed(list_chunk)))\n",
    "\n",
    "    start = end\n",
    "    end += chunk_size\n"
   ]
  },
  {
   "cell_type": "code",
   "execution_count": 7,
   "id": "acbfdbcf-dcab-4799-9065-aaa1a5e5c6f9",
   "metadata": {},
   "outputs": [
    {
     "name": "stdout",
     "output_type": "stream",
     "text": [
      "{11: 2, 45: 3, 8: 1, 23: 2, 89: 1}\n"
     ]
    }
   ],
   "source": [
    "l = [11, 45, 8, 11, 23, 45, 23, 45, 89]\n",
    "\n",
    "count_d = dict()\n",
    "for i in l:\n",
    "    if i in count_d:\n",
    "        count_d[i] += 1\n",
    "    else:\n",
    "        count_d[i] = 1\n",
    "\n",
    "print(count_d)\n",
    "    "
   ]
  },
  {
   "cell_type": "code",
   "execution_count": 8,
   "id": "7b79c007-8720-4b0f-8508-76d73fd11877",
   "metadata": {},
   "outputs": [
    {
     "name": "stdout",
     "output_type": "stream",
     "text": [
      "{(7, 49), (2, 4), (4, 16), (8, 64), (6, 36), (3, 9), (5, 25)}\n"
     ]
    }
   ],
   "source": [
    "l1 = [2, 3, 4, 5, 6, 7, 8]\n",
    "l2 = [4, 9, 16, 25, 36, 49, 64]\n",
    "\n",
    "result = zip(l1, l2)\n",
    "result_set = set(result)\n",
    "print(result_set)\n"
   ]
  },
  {
   "cell_type": "code",
   "execution_count": null,
   "id": "b2bee935-8752-4ee1-927a-140fd428a9b4",
   "metadata": {},
   "outputs": [],
   "source": []
  }
 ],
 "metadata": {
  "kernelspec": {
   "display_name": "Python 3 (ipykernel)",
   "language": "python",
   "name": "python3"
  },
  "language_info": {
   "codemirror_mode": {
    "name": "ipython",
    "version": 3
   },
   "file_extension": ".py",
   "mimetype": "text/x-python",
   "name": "python",
   "nbconvert_exporter": "python",
   "pygments_lexer": "ipython3",
   "version": "3.11.2"
  }
 },
 "nbformat": 4,
 "nbformat_minor": 5
}
