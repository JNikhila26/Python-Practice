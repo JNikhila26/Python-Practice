{
 "cells": [
  {
   "cell_type": "code",
   "execution_count": 18,
   "id": "19590390-9766-4248-b29a-e7b99a9a1d51",
   "metadata": {},
   "outputs": [
    {
     "name": "stdout",
     "output_type": "stream",
     "text": [
      "Cube of  1 is :  1\n",
      "Cube of  2 is :  8\n",
      "Cube of  3 is :  27\n",
      "Cube of  4 is :  64\n",
      "Cube of  5 is :  125\n",
      "Cube of  6 is :  216\n"
     ]
    }
   ],
   "source": [
    "#Calculate the cube of all numbers\n",
    "\n",
    "n = 6\n",
    "if n > 0:\n",
    "    for i in range(1,n+1):\n",
    "        print(\"Cube of \",i,\"is : \",i**3)\n",
    "    "
   ]
  },
  {
   "cell_type": "code",
   "execution_count": 21,
   "id": "00d8feca-a63d-4bf1-b625-19caa0cf9aa3",
   "metadata": {},
   "outputs": [
    {
     "name": "stdout",
     "output_type": "stream",
     "text": [
      "Sum of series upto  5 is : 24690\n"
     ]
    }
   ],
   "source": [
    "#Find the sum of the series upto n terms\n",
    "\n",
    "n = 5\n",
    "res=[]\n",
    "for i in range(1,n+1):\n",
    "    res.append(i*'2')\n",
    "#print(res)\n",
    "sum = 0\n",
    "for i in range(len(res)):\n",
    "    sum += int(res[i])\n",
    "print(\"Sum of series upto \",n,\"is :\",sum)"
   ]
  },
  {
   "cell_type": "code",
   "execution_count": 33,
   "id": "323061f3-639a-4b17-87d0-722f55e47908",
   "metadata": {},
   "outputs": [
    {
     "name": "stdout",
     "output_type": "stream",
     "text": [
      "* \n",
      "* * \n",
      "* * * \n",
      "* * * * \n",
      "* * * * * \n",
      "* * * * \n",
      "* * * \n",
      "* * \n",
      "* \n",
      "\n"
     ]
    }
   ],
   "source": [
    "#Print the pattern\n",
    "\n",
    "n = 5\n",
    "for i in range(1,n+1):\n",
    "    for j in range(1,i+1):\n",
    "        print(\"*\", end = \" \")\n",
    "    print()\n",
    "for i in range(n,0,-1):\n",
    "    for j in range(0,i-1):\n",
    "        print(\"*\",end = \" \")\n",
    "    print()"
   ]
  },
  {
   "cell_type": "code",
   "execution_count": null,
   "id": "9f170290-9008-47f1-a605-662ca0e2d136",
   "metadata": {},
   "outputs": [],
   "source": []
  }
 ],
 "metadata": {
  "kernelspec": {
   "display_name": "Python 3 (ipykernel)",
   "language": "python",
   "name": "python3"
  },
  "language_info": {
   "codemirror_mode": {
    "name": "ipython",
    "version": 3
   },
   "file_extension": ".py",
   "mimetype": "text/x-python",
   "name": "python",
   "nbconvert_exporter": "python",
   "pygments_lexer": "ipython3",
   "version": "3.11.2"
  }
 },
 "nbformat": 4,
 "nbformat_minor": 5
}
