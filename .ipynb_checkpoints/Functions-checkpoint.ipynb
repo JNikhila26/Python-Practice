{
 "cells": [
  {
   "cell_type": "code",
   "execution_count": 2,
   "id": "eb7670f7-ab16-4629-a614-115017cff6d6",
   "metadata": {},
   "outputs": [
    {
     "name": "stdout",
     "output_type": "stream",
     "text": [
      "12 20 30\n"
     ]
    },
    {
     "data": {
      "text/plain": [
       "(11, 22)"
      ]
     },
     "execution_count": 2,
     "metadata": {},
     "output_type": "execute_result"
    }
   ],
   "source": [
    "def fun1(a,b,c):\n",
    "    print(a,b,c)\n",
    "\n",
    "def fun2(x,y):\n",
    "    return x,y\n",
    "\n",
    "fun1(12,20,30)\n",
    "fun2(11,22)"
   ]
  },
  {
   "cell_type": "code",
   "execution_count": 4,
   "id": "d267f882-63a2-46c0-a18c-f53530a516a7",
   "metadata": {},
   "outputs": [
    {
     "name": "stdout",
     "output_type": "stream",
     "text": [
      "(50, 400, 30, 4, 0)\n"
     ]
    }
   ],
   "source": [
    "def calc(a,b):\n",
    "    return a+b,a*b,a-b,a//b,a%b\n",
    "\n",
    "res = calc(40,10)\n",
    "print(res)"
   ]
  },
  {
   "cell_type": "code",
   "execution_count": 8,
   "id": "75fe2104-0b9c-4f7b-adbf-c98f9a37444a",
   "metadata": {},
   "outputs": [
    {
     "name": "stdin",
     "output_type": "stream",
     "text": [
      "Enter name :  ben\n",
      "Enter Value :  0\n"
     ]
    },
    {
     "data": {
      "text/plain": [
       "('ben', 9000)"
      ]
     },
     "execution_count": 8,
     "metadata": {},
     "output_type": "execute_result"
    }
   ],
   "source": [
    "#Create a function with a default argument\n",
    "\n",
    "def showEmployee(Name,salary):\n",
    "    if salary <= 0:\n",
    "        return Name, 9000\n",
    "    else:\n",
    "        return Name,salary\n",
    "\n",
    "name = input(\"Enter name : \")\n",
    "salary = int(input(\"Enter Value : \"))\n",
    "showEmployee(name,salary)\n"
   ]
  },
  {
   "cell_type": "code",
   "execution_count": 13,
   "id": "5340d896-b669-4ede-9802-bab54cb2df8f",
   "metadata": {},
   "outputs": [
    {
     "name": "stdin",
     "output_type": "stream",
     "text": [
      "Enter name :  ben\n",
      "Enter Value :  12000\n"
     ]
    },
    {
     "data": {
      "text/plain": [
       "('ben', 12000)"
      ]
     },
     "execution_count": 13,
     "metadata": {},
     "output_type": "execute_result"
    }
   ],
   "source": [
    "#other Case\n",
    "\n",
    "def showEmployee(Name,salary=9000):\n",
    "    return Name,salary\n",
    "\n",
    "name = input(\"Enter name : \")\n",
    "salary = int(input(\"Enter Value : \"))\n",
    "showEmployee(name,salary)"
   ]
  },
  {
   "cell_type": "code",
   "execution_count": 25,
   "id": "25003a91-78f2-46dc-b64f-64d54e242121",
   "metadata": {},
   "outputs": [
    {
     "data": {
      "text/plain": [
       "20"
      ]
     },
     "execution_count": 25,
     "metadata": {},
     "output_type": "execute_result"
    }
   ],
   "source": [
    "def add(a,b):\n",
    "    square = a**2\n",
    "    def sum(a,b):\n",
    "        return a+b\n",
    "    add = sum(a,b)\n",
    "    return add+5\n",
    "\n",
    "add(5,10)"
   ]
  },
  {
   "cell_type": "code",
   "execution_count": 23,
   "id": "49caee49-7682-4ea4-806e-5b0f5afb19cd",
   "metadata": {},
   "outputs": [
    {
     "name": "stdout",
     "output_type": "stream",
     "text": [
      "15\n",
      "55\n"
     ]
    }
   ],
   "source": [
    "def sum(n):\n",
    "    res = 0\n",
    "    for i in range(1,n+1):\n",
    "        res +=i\n",
    "        #print(i)\n",
    "    return res\n",
    "\n",
    "print(sum(5))\n",
    "\n",
    "#Recursive Function\n",
    "\n",
    "def sum(n):\n",
    "    if n:\n",
    "        return n + sum(n-1)\n",
    "    else:\n",
    "        return 0\n",
    "\n",
    "res = sum(10)\n",
    "print(res)"
   ]
  },
  {
   "cell_type": "code",
   "execution_count": 25,
   "id": "0986169a-4220-475b-922d-3b23e47c23e5",
   "metadata": {},
   "outputs": [
    {
     "name": "stdout",
     "output_type": "stream",
     "text": [
      "[4, 6, 8, 10, 12, 14, 16, 18, 20, 22, 24, 26, 28]\n"
     ]
    }
   ],
   "source": [
    "print(list(range(4,30,2)))"
   ]
  },
  {
   "cell_type": "code",
   "execution_count": 26,
   "id": "ec0ffd51-a3b5-4140-bcab-6b257a72f600",
   "metadata": {},
   "outputs": [
    {
     "name": "stdout",
     "output_type": "stream",
     "text": [
      "24\n"
     ]
    }
   ],
   "source": [
    "x = [4, 6, 8, 24, 12, 2]\n",
    "print(max(x))"
   ]
  },
  {
   "cell_type": "code",
   "execution_count": null,
   "id": "ce3ade4b-3d40-4c99-ba80-6d456a3190b9",
   "metadata": {},
   "outputs": [],
   "source": []
  }
 ],
 "metadata": {
  "kernelspec": {
   "display_name": "Python 3 (ipykernel)",
   "language": "python",
   "name": "python3"
  },
  "language_info": {
   "codemirror_mode": {
    "name": "ipython",
    "version": 3
   },
   "file_extension": ".py",
   "mimetype": "text/x-python",
   "name": "python",
   "nbconvert_exporter": "python",
   "pygments_lexer": "ipython3",
   "version": "3.11.2"
  }
 },
 "nbformat": 4,
 "nbformat_minor": 5
}
