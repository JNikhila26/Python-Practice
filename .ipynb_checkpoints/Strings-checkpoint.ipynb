{
 "cells": [
  {
   "cell_type": "code",
   "execution_count": 28,
   "id": "b45b78ea-060d-4a20-b4c3-3f256f90fd9b",
   "metadata": {},
   "outputs": [
    {
     "name": "stdout",
     "output_type": "stream",
     "text": [
      "Jms\n"
     ]
    }
   ],
   "source": [
    "#Create a string made of the first, middle and last character\n",
    "\n",
    "s= \"James\"\n",
    "print(s[0]+s[len(s)//2]+s[-1])"
   ]
  },
  {
   "cell_type": "code",
   "execution_count": 22,
   "id": "b559dda5-189f-4cc7-95b2-5aa921273537",
   "metadata": {},
   "outputs": [
    {
     "name": "stdout",
     "output_type": "stream",
     "text": [
      "Dip Son\n"
     ]
    },
    {
     "data": {
      "text/plain": [
       "'Dip'"
      ]
     },
     "execution_count": 22,
     "metadata": {},
     "output_type": "execute_result"
    }
   ],
   "source": [
    "#Create a string made of the middle three characters\n",
    "\n",
    "s1 = \"JhonDipPeta\"\n",
    "s2 = \"JaSonAy\"\n",
    "\n",
    "m1 = int(len(s1)/2)\n",
    "m2 = int(len(s2)/2)\n",
    "\n",
    "res1 = s1[m1-1:m1+2]\n",
    "res2 = s2[m2-1:m2+2]\n",
    "\n",
    "print(res1,res2)\n",
    "\n",
    "#Using Function\n",
    "def mn(s):\n",
    "    m = int(len(s)/2)\n",
    "    res = s[m-1:m+2]\n",
    "    return res\n",
    "\n",
    "mn(\"JhonDipPeta\")"
   ]
  },
  {
   "cell_type": "code",
   "execution_count": 33,
   "id": "25c69344-8b4e-4281-84ef-f8b4eb1e7ed9",
   "metadata": {},
   "outputs": [
    {
     "name": "stdout",
     "output_type": "stream",
     "text": [
      "AuKellylt\n"
     ]
    }
   ],
   "source": [
    "#Append new string in the middle of a given string\n",
    "\n",
    "s1 = \"Ault\"\n",
    "s2 = \"Kelly\"\n",
    "\n",
    "m = int(len(s1)//2)\n",
    "x = s1[:m:]\n",
    "x = x + s2\n",
    "x = x + s1[m:]\n",
    "\n",
    "print(x)\n"
   ]
  },
  {
   "cell_type": "code",
   "execution_count": 39,
   "id": "4ef93a75-3e07-4cbd-961e-e91a4446fbcf",
   "metadata": {},
   "outputs": [
    {
     "name": "stdout",
     "output_type": "stream",
     "text": [
      "AJrpan\n"
     ]
    }
   ],
   "source": [
    "#Create a new string made of the first, middle, and last characters of each input string\n",
    "\n",
    "\n",
    "s1 = \"America\"\n",
    "s2 = \"Japan\"\n",
    "\n",
    "m1 = int(len(s1)//2)\n",
    "m2 = int(len(s1)//2)\n",
    "\n",
    "print(s1[0]+s2[0]+s1[m1]+s2[m2-1:])\n"
   ]
  },
  {
   "cell_type": "code",
   "execution_count": 57,
   "id": "ca11f608-e724-4414-81f6-969cb110d624",
   "metadata": {},
   "outputs": [
    {
     "name": "stdout",
     "output_type": "stream",
     "text": [
      "yaivePNT\n"
     ]
    }
   ],
   "source": [
    "#Arrange string characters such that lowercase letters should come first\n",
    "\n",
    "s = \"PyNaTive\"\n",
    "x=[]\n",
    "y=[]\n",
    "for i in s:\n",
    "    if i.islower():\n",
    "        x.append(i)\n",
    "        #print(x)\n",
    "    else:\n",
    "        y.append(i)\n",
    "        #print(y)\n",
    "\n",
    "res = ''.join(x+y)\n",
    "print(res)"
   ]
  },
  {
   "cell_type": "code",
   "execution_count": 3,
   "id": "dacd81be-7167-4f64-adfd-b3e5f1da5fc7",
   "metadata": {},
   "outputs": [
    {
     "name": "stdout",
     "output_type": "stream",
     "text": [
      "8\n",
      "3\n",
      "4\n"
     ]
    }
   ],
   "source": [
    "s = \"P@#yn26at^&i5ve\"\n",
    "ca = 0\n",
    "cd = 0\n",
    "cs = 0\n",
    "for i in s:\n",
    "    if i.isalpha():\n",
    "        ca += 1\n",
    "    elif i.isdigit():\n",
    "        cd += 1\n",
    "    else:\n",
    "        cs += 1\n",
    "\n",
    "print(ca)\n",
    "print(cd)\n",
    "print(cs)"
   ]
  },
  {
   "cell_type": "code",
   "execution_count": 5,
   "id": "9c238392-f2db-4919-b0d2-6c7f978b9717",
   "metadata": {},
   "outputs": [
    {
     "name": "stdout",
     "output_type": "stream",
     "text": [
      "azbycx\n"
     ]
    }
   ],
   "source": [
    "s1 = \"abc\"\n",
    "s2 = \"xyz\"\n",
    "\n",
    "s1_l = len(s1)\n",
    "s2_l = len(s2)\n",
    "\n",
    "l = s1_l if s1_l > s2_l else s2_l\n",
    "res = \"\"\n",
    "s2 = s2[::-1]\n",
    "for i in range(l):\n",
    "    if i < s1_l:\n",
    "        res = res + s1[i]\n",
    "    if i < s2_l:\n",
    "        res = res + s2[i]\n",
    "\n",
    "print(res)\n"
   ]
  },
  {
   "cell_type": "code",
   "execution_count": null,
   "id": "c54d8b96-7cd8-48c4-a966-4b8a42dea9a2",
   "metadata": {},
   "outputs": [],
   "source": []
  }
 ],
 "metadata": {
  "kernelspec": {
   "display_name": "Python 3 (ipykernel)",
   "language": "python",
   "name": "python3"
  },
  "language_info": {
   "codemirror_mode": {
    "name": "ipython",
    "version": 3
   },
   "file_extension": ".py",
   "mimetype": "text/x-python",
   "name": "python",
   "nbconvert_exporter": "python",
   "pygments_lexer": "ipython3",
   "version": "3.11.2"
  }
 },
 "nbformat": 4,
 "nbformat_minor": 5
}
