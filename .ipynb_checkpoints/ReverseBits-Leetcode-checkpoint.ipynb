{
 "cells": [
  {
   "cell_type": "code",
   "execution_count": 1,
   "id": "12658b7a-ec6c-448d-a503-444a3a92fc2a",
   "metadata": {},
   "outputs": [],
   "source": [
    "class Solution:\n",
    "    def reverseBits(self, n: int) -> int:\n",
    "        res = 0\n",
    "        #Iterating all 32 bits of n\n",
    "        for i in range(32):\n",
    "            # Left shift the reversed number by 1 and \n",
    "            #adding the last bit of the given number to it\n",
    "            res = (res<<1) + (n&1)\n",
    "            print(res<<1)\n",
    "            # To add the last bit of the given number to the reversed number, \n",
    "            #perform an AND operation with the given number and 1\n",
    "            n>>=1\n",
    "        return res"
   ]
  },
  {
   "cell_type": "code",
   "execution_count": null,
   "id": "2e12b98c-a42a-46ff-99d1-c33ef175f6da",
   "metadata": {},
   "outputs": [],
   "source": []
  }
 ],
 "metadata": {
  "kernelspec": {
   "display_name": "Python 3 (ipykernel)",
   "language": "python",
   "name": "python3"
  },
  "language_info": {
   "codemirror_mode": {
    "name": "ipython",
    "version": 3
   },
   "file_extension": ".py",
   "mimetype": "text/x-python",
   "name": "python",
   "nbconvert_exporter": "python",
   "pygments_lexer": "ipython3",
   "version": "3.11.2"
  }
 },
 "nbformat": 4,
 "nbformat_minor": 5
}
