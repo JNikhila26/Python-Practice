{
 "cells": [
  {
   "cell_type": "code",
   "execution_count": 14,
   "id": "597a011e-d12c-44cb-b66a-d3659b5a91bb",
   "metadata": {},
   "outputs": [
    {
     "name": "stdout",
     "output_type": "stream",
     "text": [
      "120\n"
     ]
    }
   ],
   "source": [
    "n = 5\n",
    "f = 1\n",
    "if n < 0:\n",
    "    print(\"Negative val\")\n",
    "elif n == 0:\n",
    "    print(\"0 Val\")\n",
    "elif n > 0:\n",
    "    for i in range(1,n+1):\n",
    "        f = f*i\n",
    "    print(f)\n"
   ]
  },
  {
   "cell_type": "code",
   "execution_count": 32,
   "id": "146334e9-1413-4883-8155-003966c0b175",
   "metadata": {},
   "outputs": [
    {
     "name": "stdin",
     "output_type": "stream",
     "text": [
      "enter val :  5\n"
     ]
    },
    {
     "name": "stdout",
     "output_type": "stream",
     "text": [
      "1 1\n",
      "2 2\n",
      "3 6\n",
      "4 24\n",
      "5 120\n",
      "\n"
     ]
    }
   ],
   "source": [
    "n = int(input(\"enter val : \"))\n",
    "#f = 1\n",
    "if n < 0:\n",
    "    print(\"Negative val\")\n",
    "elif n == 0:\n",
    "    print(\"0 Val\")\n",
    "elif n > 0:\n",
    "\n",
    "    for i in range(1,n+1):\n",
    "        f = 1\n",
    "        for j in range(1,i+1):\n",
    "            f = f*j\n",
    "        print(j,f)\n",
    "    print()"
   ]
  },
  {
   "cell_type": "code",
   "execution_count": null,
   "id": "422a211a-0c80-4f04-af93-4b3acb38b872",
   "metadata": {},
   "outputs": [],
   "source": []
  }
 ],
 "metadata": {
  "kernelspec": {
   "display_name": "Python 3 (ipykernel)",
   "language": "python",
   "name": "python3"
  },
  "language_info": {
   "codemirror_mode": {
    "name": "ipython",
    "version": 3
   },
   "file_extension": ".py",
   "mimetype": "text/x-python",
   "name": "python",
   "nbconvert_exporter": "python",
   "pygments_lexer": "ipython3",
   "version": "3.11.2"
  }
 },
 "nbformat": 4,
 "nbformat_minor": 5
}
