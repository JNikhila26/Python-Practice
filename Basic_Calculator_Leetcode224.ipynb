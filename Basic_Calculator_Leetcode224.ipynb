{
 "cells": [
  {
   "cell_type": "code",
   "execution_count": 2,
   "id": "d0f20663-bc7f-4e0a-9907-4d5b5afec295",
   "metadata": {},
   "outputs": [],
   "source": [
    "class Solution:\n",
    "    def calculate(self, s):\n",
    "        def evaluate(i):\n",
    "            res, digit, sign = 0, 0, 1\n",
    "            \n",
    "            while i < len(s):\n",
    "                if s[i].isdigit():\n",
    "                    digit = digit * 10 + int(s[i])\n",
    "                elif s[i] in '+-':\n",
    "                    res += digit * sign\n",
    "                    digit = 0\n",
    "                    sign = 1 if s[i] == '+' else -1\n",
    "                elif s[i] == '(':\n",
    "                    subres, i = evaluate(i+1)\n",
    "                    res += sign * subres\n",
    "                elif s[i] == ')':\n",
    "                    res += digit * sign\n",
    "                    return res, i\n",
    "                i += 1\n",
    "\n",
    "            return res + digit * sign\n",
    "        \n",
    "        return evaluate(0)"
   ]
  },
  {
   "cell_type": "code",
   "execution_count": null,
   "id": "28d7b53e-6135-4fcc-9779-dc32716f5ab3",
   "metadata": {},
   "outputs": [],
   "source": []
  }
 ],
 "metadata": {
  "kernelspec": {
   "display_name": "Python 3 (ipykernel)",
   "language": "python",
   "name": "python3"
  },
  "language_info": {
   "codemirror_mode": {
    "name": "ipython",
    "version": 3
   },
   "file_extension": ".py",
   "mimetype": "text/x-python",
   "name": "python",
   "nbconvert_exporter": "python",
   "pygments_lexer": "ipython3",
   "version": "3.11.2"
  }
 },
 "nbformat": 4,
 "nbformat_minor": 5
}
